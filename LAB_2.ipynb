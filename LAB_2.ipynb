{
  "nbformat": 4,
  "nbformat_minor": 0,
  "metadata": {
    "colab": {
      "provenance": [],
      "authorship_tag": "ABX9TyNgKdH4RJ7B1G9g1hgL8PBj",
      "include_colab_link": true
    },
    "kernelspec": {
      "name": "python3",
      "display_name": "Python 3"
    },
    "language_info": {
      "name": "python"
    }
  },
  "cells": [
    {
      "cell_type": "markdown",
      "metadata": {
        "id": "view-in-github",
        "colab_type": "text"
      },
      "source": [
        "<a href=\"https://colab.research.google.com/github/Borigam-sakshitha/AIML-2024-25/blob/main/LAB_2.ipynb\" target=\"_parent\"><img src=\"https://colab.research.google.com/assets/colab-badge.svg\" alt=\"Open In Colab\"/></a>"
      ]
    },
    {
      "cell_type": "markdown",
      "source": [
        "Implementation of bfs\n"
      ],
      "metadata": {
        "id": "Vg8Ay2NNCqGE"
      }
    },
    {
      "cell_type": "code",
      "execution_count": null,
      "metadata": {
        "colab": {
          "base_uri": "https://localhost:8080/"
        },
        "id": "UsGWZvPcCeiT",
        "outputId": "4c82dfda-4e7b-48ed-c1ba-26e977627673"
      },
      "outputs": [
        {
          "output_type": "stream",
          "name": "stdout",
          "text": [
            "{0: [1, 3], 1: [0, 2, 3], 2: [4, 1, 5], 3: [4, 0, 1], 4: [2, 3, 5], 5: [4, 2], 6: []}\n"
          ]
        }
      ],
      "source": [
        "import numpy as np\n",
        "from queue import Queue\n",
        "graph ={0:[1,3],1:[0,2,3],2:[4,1,5],3:[4,0,1],4:[2,3,5],5:[4,2],6:[]}\n",
        "print(graph)"
      ]
    },
    {
      "cell_type": "code",
      "source": [
        "def bfs(graph,source):\n",
        "  Q=Queue()\n",
        "  visited_vertices=set()\n",
        "  Q.put(source)\n",
        "  visited_vertices.update({0})\n",
        "  while not Q.empty():\n",
        "    vertex=Q.get()\n",
        "    print(vertex,end=\"-->\")\n",
        "    for u in graph[vertex]:\n",
        "      if u not in visited_vertices:\n",
        "        Q.put(u)\n",
        "        visited_vertices.update({u})\n",
        "\n",
        "print(\"bfs traversal of the graph source 0 is:\")\n",
        "bfs(graph,0)"
      ],
      "metadata": {
        "colab": {
          "base_uri": "https://localhost:8080/"
        },
        "id": "lY4pOW8SC6Yn",
        "outputId": "0046f391-9fe6-48e4-8a24-682e49982f9e"
      },
      "execution_count": null,
      "outputs": [
        {
          "output_type": "stream",
          "name": "stdout",
          "text": [
            "bfs traversal of the graph source 0 is:\n",
            "0-->1-->3-->2-->4-->5-->"
          ]
        }
      ]
    },
    {
      "cell_type": "code",
      "source": [
        "import numpy as np\n",
        "from queue import Queue\n",
        "Ammu={'A':['B','S'],'B':['A'],'C':['B','E','F','S'],'D':['C'],'E':['C','H'],'F':['C','G'],'G':['F','S','H'],'H':['E','G'],'S':['A','C','G']}\n",
        "print(Ammu)"
      ],
      "metadata": {
        "colab": {
          "base_uri": "https://localhost:8080/"
        },
        "id": "XW-Vtql1DDue",
        "outputId": "c0ac0c07-0b9c-4058-f859-81cae255e630"
      },
      "execution_count": null,
      "outputs": [
        {
          "output_type": "stream",
          "name": "stdout",
          "text": [
            "{'A': ['B', 'S'], 'B': ['A'], 'C': ['B', 'E', 'F', 'S'], 'D': ['C'], 'E': ['C', 'H'], 'F': ['C', 'G'], 'G': ['F', 'S', 'H'], 'H': ['E', 'G'], 'S': ['A', 'C', 'G']}\n"
          ]
        }
      ]
    },
    {
      "cell_type": "markdown",
      "source": [
        "implementation of  dfs"
      ],
      "metadata": {
        "id": "vvlUBDLhDJSs"
      }
    },
    {
      "cell_type": "code",
      "source": [
        "def dfs(Ammu,node,visited):\n",
        "      if node not in visited:\n",
        "        visited.append(node)\n",
        "        for k in Ammu[node]:\n",
        "          dfs(Ammu,k,visited)\n",
        "      return visited\n",
        "\n",
        "\n",
        "visited = dfs(Ammu,'D',[])\n",
        "print(visited)"
      ],
      "metadata": {
        "colab": {
          "base_uri": "https://localhost:8080/"
        },
        "id": "HFWk1E7iDOZg",
        "outputId": "c3ab5f91-b8e1-453e-aefb-a92776d3a0bc"
      },
      "execution_count": null,
      "outputs": [
        {
          "output_type": "stream",
          "name": "stdout",
          "text": [
            "['D', 'C', 'B', 'A', 'S', 'G', 'F', 'H', 'E']\n"
          ]
        }
      ]
    },
    {
      "cell_type": "code",
      "source": [
        "def dfs(Ammu,node,visited):\n",
        "      if node not in visited:\n",
        "        visited.append(node)\n",
        "        for k in Ammu[node]:\n",
        "          dfs(Ammu,k,visited)\n",
        "      return visited\n",
        "\n",
        "\n",
        "visited = dfs(Ammu,'A',[])\n",
        "print(visited)"
      ],
      "metadata": {
        "colab": {
          "base_uri": "https://localhost:8080/"
        },
        "id": "tmcknoQQDXnk",
        "outputId": "8bdacbf1-30fd-40ca-f22f-9680f837e3d4"
      },
      "execution_count": null,
      "outputs": [
        {
          "output_type": "stream",
          "name": "stdout",
          "text": [
            "['A', 'B', 'S', 'C', 'E', 'H', 'G', 'F']\n"
          ]
        }
      ]
    }
  ]
}